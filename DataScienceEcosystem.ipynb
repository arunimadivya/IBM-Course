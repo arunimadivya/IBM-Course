{
 "cells": [
  {
   "cell_type": "markdown",
   "id": "3e58891c-2450-4573-906f-19d7b46052ef",
   "metadata": {},
   "source": [
    "# Data Science Tools and Ecosystem"
   ]
  },
  {
   "cell_type": "markdown",
   "id": "fc6bec6f-691f-4a61-91fc-45ff6cebf6c5",
   "metadata": {},
   "source": [
    "In this notebook, Data Science Tools and Ecosystem are summarized."
   ]
  },
  {
   "cell_type": "markdown",
   "id": "f4f5e30e-44e5-4f4e-9fdd-0c24acaab1e8",
   "metadata": {},
   "source": [
    "Some of the popular languages that Data Scientists use are:\n",
    "1. Python\n",
    "2. R\n",
    "3. SQL\n",
    "4. Scala"
   ]
  },
  {
   "cell_type": "markdown",
   "id": "f9f637d3-89fc-4a62-989c-05d81f7478a7",
   "metadata": {},
   "source": [
    "Some of the commonly used libraries used by Data Scientists include:\n",
    "1. Pandas\n",
    "2. NumPy\n",
    "3. Matplotlib"
   ]
  },
  {
   "cell_type": "markdown",
   "id": "6a5beee7-e9b1-4dac-af92-a26cf072f8e8",
   "metadata": {},
   "source": [
    "|Data Science Tools|\n",
    "| --- |\n",
    "|Jupyter|\n",
    "|RStudio|\n",
    "|JupyterLab|"
   ]
  },
  {
   "cell_type": "markdown",
   "id": "4fb136de-59e0-4a57-b8cf-2632e22a092f",
   "metadata": {},
   "source": [
    "### Below are a few examples of evaluating arithmetic expressions in Python"
   ]
  },
  {
   "cell_type": "code",
   "execution_count": 3,
   "id": "453e2a57-032f-462a-a844-92681c184916",
   "metadata": {},
   "outputs": [
    {
     "name": "stdout",
     "output_type": "stream",
     "text": [
      "17\n"
     ]
    }
   ],
   "source": [
    "#This a simple arithmetic expression to mutiply then add integers.\n",
    "print((3*4+5))"
   ]
  },
  {
   "cell_type": "code",
   "execution_count": 4,
   "id": "4c9dc04f-488f-45b6-ae25-fa02fef70730",
   "metadata": {},
   "outputs": [
    {
     "name": "stdout",
     "output_type": "stream",
     "text": [
      "3.3333333333333335 hours\n"
     ]
    }
   ],
   "source": [
    "#This will convert 200 minutes to hours by diving by 60\n",
    "hours=200/60\n",
    "print(str(hours),\"hours\")"
   ]
  },
  {
   "cell_type": "markdown",
   "id": "4c7cfeaa-1d2c-4a30-80f7-0f870b482b52",
   "metadata": {},
   "source": [
    "**Objectives:**\n",
    "- List popular languages used by data scientists\n",
    "- List commonly used libraries used by data scientists\n",
    "- Create Jupyter notebook containing code and markdown cells with headings, tables, etc."
   ]
  },
  {
   "cell_type": "markdown",
   "id": "78fbef39-dc71-4aed-974c-373acae8aed1",
   "metadata": {},
   "source": [
    "## Author\n",
    "Arunima Divya"
   ]
  },
 ],
 "metadata": {
  "kernelspec": {
   "display_name": "Python",
   "language": "python",
   "name": "conda-env-python-py"
  },
  "language_info": {
   "codemirror_mode": {
    "name": "ipython",
    "version": 3
   },
   "file_extension": ".py",
   "mimetype": "text/x-python",
   "name": "python",
   "nbconvert_exporter": "python",
   "pygments_lexer": "ipython3",
   "version": "3.7.12"
  }
 },
 "nbformat": 4,
 "nbformat_minor": 5
}
